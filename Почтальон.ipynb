{
  "nbformat": 4,
  "nbformat_minor": 0,
  "metadata": {
    "colab": {
      "name": "Почтальон.ipynb",
      "provenance": [],
      "collapsed_sections": [],
      "authorship_tag": "ABX9TyMmg6Xj4VCVzdM50o14bZ8h",
      "include_colab_link": true
    },
    "kernelspec": {
      "name": "python3",
      "display_name": "Python 3"
    },
    "language_info": {
      "name": "python"
    }
  },
  "cells": [
    {
      "cell_type": "markdown",
      "metadata": {
        "id": "view-in-github",
        "colab_type": "text"
      },
      "source": [
        "<a href=\"https://colab.research.google.com/github/YuryGlazcov/BasicPy/blob/main/%D0%9F%D0%BE%D1%87%D1%82%D0%B0%D0%BB%D1%8C%D0%BE%D0%BD.ipynb\" target=\"_parent\"><img src=\"https://colab.research.google.com/assets/colab-badge.svg\" alt=\"Open In Colab\"/></a>"
      ]
    },
    {
      "cell_type": "markdown",
      "metadata": {
        "id": "UbDtK3QFtPBa"
      },
      "source": [
        "Данная задача является типичной задачей коммивояжера. Для нее есть несколько алгоритмов для решения. Я выбрал метод ближайших соседей за его простую логику.\n",
        "Признаю,что, возможно, я не нашел самый короткий путь ."
      ]
    },
    {
      "cell_type": "code",
      "metadata": {
        "colab": {
          "base_uri": "https://localhost:8080/",
          "height": 384
        },
        "id": "WwRji58zb8Vf",
        "outputId": "e45badb7-7115-4a1c-c361-fbb15b874fb1"
      },
      "source": [
        "import numpy\n",
        "# Создаем список координат используемых в задаче  и далее разбиваем их на списки x и y координат\n",
        "coords_list = [(0, 2), (2, 5), (5, 2), (6, 6), (8, 3)]\n",
        "coords_list_x =[]\n",
        "coords_list_y = [ ]\n",
        "for i in np.arange(0,5,1):\n",
        "         coords_list_x.append(coords_list[i][0])\n",
        "         coords_list_y.append(coords_list[i][1])\n",
        "\n",
        "#Создаем матрицу расстояний между пунктами\n",
        "M = np.zeros([5,5]) # Шаблон матрицы относительных расстояний между пунктами\n",
        "for i in np.arange(0,5,1):\n",
        "         for j in np.arange(0,5,1):\n",
        "                  if i!=j:\n",
        "                           M[i,j]=sqrt((coords_list_x[i]-coords_list_x[j])**2+(coords_list_y[i]-coords_list_y[j])**2)# Заполнение матрицы\n",
        "                  else:\n",
        "                           M[i,j]=float('inf')#Заполнение главной диагонали матрицы   \n",
        "\n",
        "way= []\n",
        "ib = coords_list_x[0]\n",
        "way.append(ib)\n",
        "for i in np.arange(1,5,1):\n",
        "         s=[]\n",
        "         for j in np.arange(0,5,1):                  \n",
        "                  s.append(M[way[i-1],j])\n",
        "         way.append(s.index(min(s)))# Индексы пунктов ближайших городов соседей\n",
        "         for j in np.arange(0,i,1):  # Убираем дубликаты расстояний в матрице чтобы в дальнейшем вычислить весь путь\n",
        "                  M[way[i],way[j]]=float('inf')\n",
        "S=sum([sqrt((coords_list_x[way[i]]-coords_list_x[way[i+1]])**2+(coords_list_y[way[i]]-coords_list_y[way[i+1]])**2)for i in np.arange(0,5-1,1)]) +sqrt((coords_list_x[way[n-1]]-coords_list_x[way[0]])**2+(coords_list_y[way[5-1]]-coords_list_y[way[0]])**2)                      \n",
        "#S - итоговая величина наикратчайшего пути методом ближайших соседей\n",
        "X1=[coords_list_x[way[i]] for i in np.arange(0,5,1)]\n",
        "Y1=[coords_list_y[way[i]] for i in np.arange(0,5,1)]    \n",
        "plt.plot(X1, Y1, color='r', linestyle=' ', marker='o')\n",
        "plt.plot(X1, Y1, color='b', linewidth=1)   \n",
        "X2=[coords_list_x[way[5-1]],coords_list_x[way[0]]]\n",
        "Y2=[coords_list_y[way[5-1]],coords_list_y[way[0]]]\n",
        "plt.plot(X2, Y2, color='g', linewidth=2,  linestyle='-', label='Путь от  последнего \\n к первому пункту') \n",
        "plt.legend(loc='best')\n",
        "plt.grid(True)\n",
        "plt.show() \n",
        "print (f\"\"\" 1. {coords_list[way[0]]}  -> \n",
        "2. {coords_list[way[1]]} [{M[way[0],way[1]]}] -> \n",
        "3. {coords_list[way[2]]} [{M[way[0],way[1]]+M[way[1],way[2]]}] -> \n",
        "4. {coords_list[way[3]]}[{M[way[0],way[1]]+M[way[1],way[2]]+M[way[2],way[3]]}] ->\n",
        "5. {coords_list[way[4]]}[{M[way[0],way[1]]+M[way[1],way[2]]+M[way[2],way[3]]+M[way[3],way[4]]}] -> \n",
        "6. {coords_list[way[0]]} [{M[way[0],way[1]]+M[way[1],way[2]]+M[way[2],way[3]]+M[way[3],way[4]]+ M[way[0],way[4]]}] = \n",
        " [{S}].\"\"\") \n",
        "#print в данном случае выполняет функцию проверки вычислений и также  является выводом итогов"
      ],
      "execution_count": 53,
      "outputs": [
        {
          "output_type": "display_data",
          "data": {
            "image/png": "[encoded data removed]",
            "text/plain": [
              "<Figure size 432x288 with 1 Axes>"
            ]
          },
          "metadata": {
            "needs_background": "light"
          }
        },
        {
          "output_type": "stream",
          "name": "stdout",
          "text": [
            " 1. (0, 2)  -> \n",
            "2. (2, 5) [3.605551275463989] -> \n",
            "3. (6, 6) [7.728656901081649] -> \n",
            "4. (8, 3)[11.334208176545639] ->\n",
            "5. (5, 2)[14.496485836714019] -> \n",
            "6. (0, 2) [19.49648583671402] = \n",
            " [19.49648583671402].\n"
          ]
        }
      ]
    }
  ]
}